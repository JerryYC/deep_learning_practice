{
 "cells": [
  {
   "cell_type": "code",
   "execution_count": null,
   "id": "60efd8bd",
   "metadata": {},
   "outputs": [],
   "source": [
    "import torch\n",
    "import torch.nn as nn\n",
    "import torchvision\n",
    "from model import NeuralNet\n",
    "import matplotlib.pyplot as plt\n",
    "import numpy as np"
   ]
  },
  {
   "cell_type": "code",
   "execution_count": null,
   "id": "261f68a4",
   "metadata": {},
   "outputs": [],
   "source": [
    "device = torch.device('cuda' if torch.cuda.is_available() else 'cpu')"
   ]
  },
  {
   "cell_type": "code",
   "execution_count": null,
   "id": "6075bca3",
   "metadata": {},
   "outputs": [],
   "source": [
    "# Hyper-parameters \n",
    "input_size = 784\n",
    "hidden_size = 20\n",
    "num_classes = 10\n",
    "num_epochs = 5\n",
    "batch_size = 100\n",
    "learning_rate = 0.0001"
   ]
  },
  {
   "cell_type": "code",
   "execution_count": null,
   "id": "2efa4376",
   "metadata": {},
   "outputs": [],
   "source": [
    "# Dataset \n",
    "train_dataset = torchvision.datasets.MNIST(root='./', \n",
    "    train=True, transform=torchvision.transforms.ToTensor(), download=True)\n",
    "validation_dataset = torchvision.datasets.MNIST(root='./', \n",
    "    train=False, transform=torchvision.transforms.ToTensor())"
   ]
  },
  {
   "cell_type": "code",
   "execution_count": null,
   "id": "620a2125",
   "metadata": {},
   "outputs": [],
   "source": [
    "plt.imshow(train_dataset[0][0][0])"
   ]
  },
  {
   "cell_type": "code",
   "execution_count": null,
   "id": "b78aebd8",
   "metadata": {},
   "outputs": [],
   "source": [
    "train_dataset[0][1]"
   ]
  },
  {
   "cell_type": "code",
   "execution_count": null,
   "id": "3a0b61fe",
   "metadata": {},
   "outputs": [],
   "source": [
    "# Data loader\n",
    "train_loader = torch.utils.data.DataLoader(\n",
    "    dataset=train_dataset, batch_size=batch_size, shuffle=True)\n",
    "\n",
    "validation_loader = torch.utils.data.DataLoader(\n",
    "    dataset= validation_dataset, batch_size=batch_size, shuffle=False)"
   ]
  },
  {
   "cell_type": "code",
   "execution_count": null,
   "id": "9d5b8701",
   "metadata": {},
   "outputs": [],
   "source": [
    "len(train_loader), len(validation_loader)"
   ]
  },
  {
   "cell_type": "code",
   "execution_count": null,
   "id": "c79996aa",
   "metadata": {},
   "outputs": [],
   "source": [
    "# Create Model\n",
    "model = ..."
   ]
  },
  {
   "cell_type": "code",
   "execution_count": null,
   "id": "7212e41b",
   "metadata": {},
   "outputs": [],
   "source": [
    "# Loss and optimizer\n",
    "criterion = ...\n",
    "optimizer = ..."
   ]
  },
  {
   "cell_type": "code",
   "execution_count": null,
   "id": "b228433e",
   "metadata": {},
   "outputs": [],
   "source": [
    "# Training loop\n",
    "train_loss, validation_loss = [], []\n",
    "for epoch in range(num_epochs):\n",
    "    # Train\n",
    "    model.train()\n",
    "    batch_loss = []\n",
    "    for images, labels in train_loader:\n",
    "        # TODO\n",
    "        \n",
    "        # Keep track of loss\n",
    "        batch_loss.append(loss.item())\n",
    "        \n",
    "    train_loss.append(np.mean(batch_loss))\n",
    "    \n",
    "    # Validation\n",
    "    model.eval()\n",
    "    batch_loss = []\n",
    "    with torch.no_grad():\n",
    "        for images, labels in validation_loader:  \n",
    "            # TODO\n",
    "\n",
    "            # Keep track of loss\n",
    "            batch_loss.append(loss.item())\n",
    "        \n",
    "    validation_loss.append(np.mean(batch_loss))\n",
    "    \n",
    "    print(\"Epoch: {}, Train Loss: {:.4f}, Validation Loss: {:.4f}\".format(\n",
    "        epoch+1, train_loss[-1], validation_loss[-1]))\n"
   ]
  },
  {
   "cell_type": "code",
   "execution_count": null,
   "id": "a6beec3a",
   "metadata": {},
   "outputs": [],
   "source": [
    "plt.plot(train_loss)\n",
    "plt.plot(validation_loss)"
   ]
  },
  {
   "cell_type": "code",
   "execution_count": null,
   "id": "7f9b5172",
   "metadata": {},
   "outputs": [],
   "source": [
    "# Evaluation\n",
    "model.eval()\n",
    "loss = []\n",
    "accuracy = []\n",
    "for images, labels in validation_loader:  \n",
    "    images = images.reshape(batch_size,-1).to(device)\n",
    "    labels = labels.to(device)\n",
    "\n",
    "    # Forward pass\n",
    "    with torch.no_grad():\n",
    "        outputs = model(images)\n",
    "        batch_loss = criterion(outputs, labels)\n",
    "    \n",
    "    # Calculate Accuracy\n",
    "    predictions = torch.max(outputs.data, 1)[1]\n",
    "    accuracy.append((predictions == labels).detach().cpu().numpy().mean())\n",
    "    loss.append(batch_loss)\n",
    "print(\"Loss: {:.4f}, Accuracy: {:.4f}\".format(np.mean(loss), np.mean(accuracy)))"
   ]
  },
  {
   "cell_type": "code",
   "execution_count": null,
   "id": "4be347c7",
   "metadata": {},
   "outputs": [],
   "source": [
    "plt.imshow(images[0].reshape((28,28)))"
   ]
  },
  {
   "cell_type": "code",
   "execution_count": null,
   "id": "3bd84df3",
   "metadata": {},
   "outputs": [],
   "source": [
    "predictions[0]"
   ]
  }
 ],
 "metadata": {
  "kernelspec": {
   "display_name": "Python 3",
   "language": "python",
   "name": "python3"
  },
  "language_info": {
   "codemirror_mode": {
    "name": "ipython",
    "version": 3
   },
   "file_extension": ".py",
   "mimetype": "text/x-python",
   "name": "python",
   "nbconvert_exporter": "python",
   "pygments_lexer": "ipython3",
   "version": "3.8.8"
  }
 },
 "nbformat": 4,
 "nbformat_minor": 5
}
